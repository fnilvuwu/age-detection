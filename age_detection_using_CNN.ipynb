{
  "cells": [
    {
      "cell_type": "markdown",
      "metadata": {
        "id": "view-in-github",
        "colab_type": "text"
      },
      "source": [
        "<a href=\"https://colab.research.google.com/github/fnilvuwu/age-detection/blob/main/age_detection_using_CNN.ipynb\" target=\"_parent\"><img src=\"https://colab.research.google.com/assets/colab-badge.svg\" alt=\"Open In Colab\"/></a>"
      ]
    },
    {
      "cell_type": "code",
      "execution_count": 15,
      "id": "d8efd166",
      "metadata": {
        "id": "d8efd166"
      },
      "outputs": [],
      "source": [
        "import cv2\n",
        "import pandas as pd\n",
        "import os\n",
        "import seaborn as sns\n",
        "import matplotlib.pyplot as plt\n",
        "import tensorflow as tf\n",
        "from tensorflow.keras.preprocessing.image import ImageDataGenerator\n",
        "from tensorflow.keras.models import Sequential\n",
        "from tensorflow.keras.layers import Conv2D, Dense, Dropout, Flatten, MaxPooling2D, GlobalMaxPool2D\n",
        "from tensorflow.keras.callbacks import ModelCheckpoint\n",
        "import numpy as np"
      ]
    },
    {
      "cell_type": "code",
      "execution_count": 2,
      "id": "HvneieoZzqTE",
      "metadata": {
        "id": "HvneieoZzqTE",
        "colab": {
          "base_uri": "https://localhost:8080/"
        },
        "outputId": "7fc916cf-b0ad-49a8-d5d1-97af501ed14f"
      },
      "outputs": [
        {
          "output_type": "stream",
          "name": "stdout",
          "text": [
            "Found GPU at: /device:GPU:0\n"
          ]
        }
      ],
      "source": [
        "device_name = tf.test.gpu_device_name()\n",
        "if device_name != '/device:GPU:0':\n",
        "    raise SystemError('GPU device not found')\n",
        "print('Found GPU at: {}'.format(device_name))"
      ]
    },
    {
      "cell_type": "code",
      "source": [
        "!tar -xf \"/content/drive/MyDrive/Colab Notebooks/UTKFace.tar.gz\""
      ],
      "metadata": {
        "id": "jyD_1LRuJjkj"
      },
      "id": "jyD_1LRuJjkj",
      "execution_count": 6,
      "outputs": []
    },
    {
      "cell_type": "code",
      "execution_count": 5,
      "id": "53UZznf8WJOw",
      "metadata": {
        "colab": {
          "base_uri": "https://localhost:8080/"
        },
        "id": "53UZznf8WJOw",
        "outputId": "64176c44-3127-46c5-8a13-b3085f3741da"
      },
      "outputs": [
        {
          "output_type": "stream",
          "name": "stdout",
          "text": [
            "Mounted at /content/drive\n"
          ]
        }
      ],
      "source": [
        "from google.colab import drive\n",
        "drive.mount('/content/drive')"
      ]
    },
    {
      "cell_type": "code",
      "execution_count": null,
      "id": "b1329ee1",
      "metadata": {
        "id": "b1329ee1"
      },
      "outputs": [],
      "source": [
        "all_images = os.listdir('/content/UTKFace/')\n",
        "ranges = ['1-2','3-9','10-20','21-27','28-45','46-65','66-116']\n",
        "\n",
        "X = []\n",
        "y = []\n",
        "\n",
        "l = len(all_images)\n",
        "\n",
        "for a in range(l):\n",
        "    X.append(cv2.imread(f'/content/UTKFace/{all_images[a]}',0))\n",
        "    age = int(all_images[a].split('_')[0])\n",
        "    \n",
        "    if age>=1 and age<=2:\n",
        "        y.append(0)\n",
        "    elif age>=3 and age<=9:\n",
        "        y.append(1)\n",
        "    elif age>=10 and age<=20:\n",
        "        y.append(2)\n",
        "    elif age>=21 and age<=27:\n",
        "        y.append(3)\n",
        "    elif age>=28 and age<=45:\n",
        "        y.append(4)\n",
        "    elif age>=46 and age<=65:\n",
        "        y.append(5)\n",
        "    elif age>=66 and age<=116:\n",
        "        y.append(6)\n",
        "# we are saving the X and y arrays in npz compressed format so that we don’t need to read images again and again.\n",
        "np.savez_compressed('compressed image data.npz',x=X,y=y)"
      ]
    },
    {
      "cell_type": "code",
      "execution_count": 3,
      "id": "30745bb1",
      "metadata": {
        "id": "30745bb1"
      },
      "outputs": [],
      "source": [
        "loaded = np.load('compressed image data.npz')\n",
        "\n",
        "x = loaded['x']\n",
        "y = loaded['y']"
      ]
    },
    {
      "cell_type": "code",
      "execution_count": 4,
      "id": "2dc00c5e",
      "metadata": {
        "colab": {
          "base_uri": "https://localhost:8080/",
          "height": 286
        },
        "id": "2dc00c5e",
        "outputId": "408843ea-b078-45a5-b05a-ec2a81be3c07",
        "scrolled": true
      },
      "outputs": [
        {
          "output_type": "execute_result",
          "data": {
            "text/plain": [
              "<matplotlib.image.AxesImage at 0x7f8e0f7775e0>"
            ]
          },
          "metadata": {},
          "execution_count": 4
        },
        {
          "output_type": "display_data",
          "data": {
            "text/plain": [
              "<Figure size 432x288 with 1 Axes>"
            ],
            "image/png": "[encoded data removed]"
          },
          "metadata": {
            "needs_background": "light"
          }
        }
      ],
      "source": [
        "plt.imshow(X[0],cmap='gray')"
      ]
    },
    {
      "cell_type": "code",
      "execution_count": 5,
      "id": "d953c2c1",
      "metadata": {
        "id": "d953c2c1"
      },
      "outputs": [],
      "source": [
        "from sklearn.model_selection import train_test_split"
      ]
    },
    {
      "cell_type": "code",
      "execution_count": 6,
      "id": "3272fa95",
      "metadata": {
        "id": "3272fa95"
      },
      "outputs": [],
      "source": [
        "from keras.utils import np_utils\n",
        "\n",
        "y = np_utils.to_categorical(y)"
      ]
    },
    {
      "cell_type": "code",
      "execution_count": 7,
      "id": "fb9ce8cd",
      "metadata": {
        "colab": {
          "base_uri": "https://localhost:8080/"
        },
        "id": "fb9ce8cd",
        "outputId": "b0b1f3fb-6b56-47a1-acae-c27432403f92"
      },
      "outputs": [
        {
          "output_type": "execute_result",
          "data": {
            "text/plain": [
              "array([[0., 0., 0., ..., 1., 0., 0.],\n",
              "       [0., 0., 0., ..., 1., 0., 0.],\n",
              "       [0., 0., 0., ..., 0., 1., 0.],\n",
              "       ...,\n",
              "       [0., 0., 0., ..., 0., 1., 0.],\n",
              "       [0., 1., 0., ..., 0., 0., 0.],\n",
              "       [1., 0., 0., ..., 0., 0., 0.]], dtype=float32)"
            ]
          },
          "metadata": {},
          "execution_count": 7
        }
      ],
      "source": [
        "y"
      ]
    },
    {
      "cell_type": "code",
      "execution_count": 8,
      "id": "32fde499",
      "metadata": {
        "id": "32fde499"
      },
      "outputs": [],
      "source": [
        "X_train, X_test, y_train, y_test = train_test_split(X, y, test_size=0.30, random_state=42)"
      ]
    },
    {
      "cell_type": "code",
      "execution_count": 9,
      "id": "6fd6b9b7",
      "metadata": {
        "id": "6fd6b9b7"
      },
      "outputs": [],
      "source": [
        "X_train = np.array(X_train).reshape(-1,200,200,1)"
      ]
    },
    {
      "cell_type": "code",
      "execution_count": 10,
      "id": "d684fbe3",
      "metadata": {
        "id": "d684fbe3"
      },
      "outputs": [],
      "source": [
        "X_test = np.array(X_test).reshape(-1,200,200,1)"
      ]
    },
    {
      "cell_type": "code",
      "execution_count": 11,
      "id": "39c1bf51",
      "metadata": {
        "id": "39c1bf51"
      },
      "outputs": [],
      "source": [
        "IMG_HEIGHT = 200\n",
        "IMG_WIDTH = 200\n",
        "IMG_SIZE = (IMG_HEIGHT,IMG_WIDTH)\n",
        "batch_size = 128\n",
        "epochs = 60"
      ]
    },
    {
      "cell_type": "code",
      "execution_count": 12,
      "id": "75fa0910",
      "metadata": {
        "id": "75fa0910"
      },
      "outputs": [],
      "source": [
        "train_datagen = ImageDataGenerator(rescale=1./255)\n",
        "\n",
        "test_datagen = ImageDataGenerator(rescale=1./255)"
      ]
    },
    {
      "cell_type": "code",
      "execution_count": 13,
      "id": "73dbf229",
      "metadata": {
        "id": "73dbf229"
      },
      "outputs": [],
      "source": [
        "train_data = train_datagen.flow(X_train,y_train,batch_size)\n",
        "\n",
        "test_data = test_datagen.flow(X_test,y_test,batch_size)"
      ]
    },
    {
      "cell_type": "code",
      "execution_count": 16,
      "id": "97d7e665",
      "metadata": {
        "colab": {
          "base_uri": "https://localhost:8080/"
        },
        "id": "97d7e665",
        "outputId": "8e96c97d-42f7-44f2-cc7c-41102837b49c"
      },
      "outputs": [
        {
          "output_type": "stream",
          "name": "stdout",
          "text": [
            "Model: \"sequential_1\"\n",
            "_________________________________________________________________\n",
            " Layer (type)                Output Shape              Param #   \n",
            "=================================================================\n",
            " conv2d_3 (Conv2D)           (None, 198, 198, 32)      320       \n",
            "                                                                 \n",
            " max_pooling2d_3 (MaxPooling  (None, 99, 99, 32)       0         \n",
            " 2D)                                                             \n",
            "                                                                 \n",
            " conv2d_4 (Conv2D)           (None, 97, 97, 64)        18496     \n",
            "                                                                 \n",
            " max_pooling2d_4 (MaxPooling  (None, 48, 48, 64)       0         \n",
            " 2D)                                                             \n",
            "                                                                 \n",
            " conv2d_5 (Conv2D)           (None, 46, 46, 128)       73856     \n",
            "                                                                 \n",
            " max_pooling2d_5 (MaxPooling  (None, 23, 23, 128)      0         \n",
            " 2D)                                                             \n",
            "                                                                 \n",
            " global_max_pooling2d (Globa  (None, 128)              0         \n",
            " lMaxPooling2D)                                                  \n",
            "                                                                 \n",
            " flatten (Flatten)           (None, 128)               0         \n",
            "                                                                 \n",
            " dense (Dense)               (None, 132)               17028     \n",
            "                                                                 \n",
            " dense_1 (Dense)             (None, 7)                 931       \n",
            "                                                                 \n",
            "=================================================================\n",
            "Total params: 110,631\n",
            "Trainable params: 110,631\n",
            "Non-trainable params: 0\n",
            "_________________________________________________________________\n"
          ]
        }
      ],
      "source": [
        "final_cnn = Sequential()\n",
        "\n",
        "final_cnn.add(Conv2D(filters=32, kernel_size=3, activation='relu', input_shape=(200, 200, 1)))    # 3rd dim = 1 for grayscale images.\n",
        "final_cnn.add(MaxPooling2D(pool_size=(2,2)))\n",
        "\n",
        "final_cnn.add(Conv2D(filters=64, kernel_size=3, activation='relu'))\n",
        "final_cnn.add(MaxPooling2D(pool_size=(2,2)))\n",
        "\n",
        "final_cnn.add(Conv2D(filters=128, kernel_size=3, activation='relu'))\n",
        "final_cnn.add(MaxPooling2D(pool_size=(2,2)))\n",
        "\n",
        "final_cnn.add(GlobalMaxPool2D())\n",
        "\n",
        "final_cnn.add(Flatten())\n",
        "\n",
        "final_cnn.add(Dense(132, activation='relu'))\n",
        "\n",
        "final_cnn.add(Dense(7, activation='softmax'))\n",
        "\n",
        "final_cnn.summary()"
      ]
    },
    {
      "cell_type": "code",
      "execution_count": 17,
      "id": "c0d25238",
      "metadata": {
        "id": "c0d25238"
      },
      "outputs": [],
      "source": [
        "final_cnn.compile(loss='categorical_crossentropy', optimizer='adam', metrics=['accuracy'])"
      ]
    },
    {
      "cell_type": "code",
      "execution_count": 18,
      "id": "520f2a1e",
      "metadata": {
        "id": "520f2a1e"
      },
      "outputs": [],
      "source": [
        "checkpoint = ModelCheckpoint(filepath=\"models/final_cnn_model_checkpoint1.h5\",\n",
        "                             monitor='val_accuracy',\n",
        "                             save_best_only=True,\n",
        "                             save_weights_only=False,\n",
        "                             verbose=1\n",
        "                            )"
      ]
    },
    {
      "cell_type": "code",
      "execution_count": 19,
      "id": "112f1ba8",
      "metadata": {
        "colab": {
          "base_uri": "https://localhost:8080/"
        },
        "id": "112f1ba8",
        "outputId": "f47132e4-20ad-4dc5-f284-e48957bc9908"
      },
      "outputs": [
        {
          "output_type": "stream",
          "name": "stdout",
          "text": [
            "Epoch 1/60\n",
            "130/130 [==============================] - ETA: 0s - loss: 1.7386 - accuracy: 0.3178\n",
            "Epoch 1: val_accuracy improved from -inf to 0.31759, saving model to models/final_cnn_model_checkpoint1.h5\n",
            "130/130 [==============================] - 66s 466ms/step - loss: 1.7386 - accuracy: 0.3178 - val_loss: 1.7015 - val_accuracy: 0.3176\n",
            "Epoch 2/60\n",
            "130/130 [==============================] - ETA: 0s - loss: 1.6764 - accuracy: 0.3264\n",
            "Epoch 2: val_accuracy improved from 0.31759 to 0.35878, saving model to models/final_cnn_model_checkpoint1.h5\n",
            "130/130 [==============================] - 58s 448ms/step - loss: 1.6764 - accuracy: 0.3264 - val_loss: 1.6304 - val_accuracy: 0.3588\n",
            "Epoch 3/60\n",
            "130/130 [==============================] - ETA: 0s - loss: 1.6121 - accuracy: 0.3487\n",
            "Epoch 3: val_accuracy did not improve from 0.35878\n",
            "130/130 [==============================] - 58s 447ms/step - loss: 1.6121 - accuracy: 0.3487 - val_loss: 1.5991 - val_accuracy: 0.3437\n",
            "Epoch 4/60\n",
            "130/130 [==============================] - ETA: 0s - loss: 1.5492 - accuracy: 0.3623\n",
            "Epoch 4: val_accuracy improved from 0.35878 to 0.38887, saving model to models/final_cnn_model_checkpoint1.h5\n",
            "130/130 [==============================] - 58s 449ms/step - loss: 1.5492 - accuracy: 0.3623 - val_loss: 1.5074 - val_accuracy: 0.3889\n",
            "Epoch 5/60\n",
            "130/130 [==============================] - ETA: 0s - loss: 1.4972 - accuracy: 0.3815\n",
            "Epoch 5: val_accuracy improved from 0.38887 to 0.39660, saving model to models/final_cnn_model_checkpoint1.h5\n",
            "130/130 [==============================] - 60s 461ms/step - loss: 1.4972 - accuracy: 0.3815 - val_loss: 1.4778 - val_accuracy: 0.3966\n",
            "Epoch 6/60\n",
            "130/130 [==============================] - ETA: 0s - loss: 1.4699 - accuracy: 0.3977\n",
            "Epoch 6: val_accuracy improved from 0.39660 to 0.40855, saving model to models/final_cnn_model_checkpoint1.h5\n",
            "130/130 [==============================] - 59s 450ms/step - loss: 1.4699 - accuracy: 0.3977 - val_loss: 1.4443 - val_accuracy: 0.4085\n",
            "Epoch 7/60\n",
            "130/130 [==============================] - ETA: 0s - loss: 1.4460 - accuracy: 0.3983\n",
            "Epoch 7: val_accuracy improved from 0.40855 to 0.43329, saving model to models/final_cnn_model_checkpoint1.h5\n",
            "130/130 [==============================] - 58s 449ms/step - loss: 1.4460 - accuracy: 0.3983 - val_loss: 1.3965 - val_accuracy: 0.4333\n",
            "Epoch 8/60\n",
            "130/130 [==============================] - ETA: 0s - loss: 1.4090 - accuracy: 0.4189\n",
            "Epoch 8: val_accuracy did not improve from 0.43329\n",
            "130/130 [==============================] - 58s 449ms/step - loss: 1.4090 - accuracy: 0.4189 - val_loss: 1.4537 - val_accuracy: 0.3910\n",
            "Epoch 9/60\n",
            "130/130 [==============================] - ETA: 0s - loss: 1.3911 - accuracy: 0.4212\n",
            "Epoch 9: val_accuracy improved from 0.43329 to 0.45115, saving model to models/final_cnn_model_checkpoint1.h5\n",
            "130/130 [==============================] - 60s 460ms/step - loss: 1.3911 - accuracy: 0.4212 - val_loss: 1.3469 - val_accuracy: 0.4511\n",
            "Epoch 10/60\n",
            "130/130 [==============================] - ETA: 0s - loss: 1.3727 - accuracy: 0.4253\n",
            "Epoch 10: val_accuracy improved from 0.45115 to 0.45508, saving model to models/final_cnn_model_checkpoint1.h5\n",
            "130/130 [==============================] - 58s 447ms/step - loss: 1.3727 - accuracy: 0.4253 - val_loss: 1.3218 - val_accuracy: 0.4551\n",
            "Epoch 11/60\n",
            "130/130 [==============================] - ETA: 0s - loss: 1.3397 - accuracy: 0.4436\n",
            "Epoch 11: val_accuracy improved from 0.45508 to 0.46731, saving model to models/final_cnn_model_checkpoint1.h5\n",
            "130/130 [==============================] - 58s 449ms/step - loss: 1.3397 - accuracy: 0.4436 - val_loss: 1.3143 - val_accuracy: 0.4673\n",
            "Epoch 12/60\n",
            "130/130 [==============================] - ETA: 0s - loss: 1.3220 - accuracy: 0.4437\n",
            "Epoch 12: val_accuracy did not improve from 0.46731\n",
            "130/130 [==============================] - 58s 447ms/step - loss: 1.3220 - accuracy: 0.4437 - val_loss: 1.2853 - val_accuracy: 0.4644\n",
            "Epoch 13/60\n",
            "130/130 [==============================] - ETA: 0s - loss: 1.2981 - accuracy: 0.4568\n",
            "Epoch 13: val_accuracy improved from 0.46731 to 0.47491, saving model to models/final_cnn_model_checkpoint1.h5\n",
            "130/130 [==============================] - 58s 446ms/step - loss: 1.2981 - accuracy: 0.4568 - val_loss: 1.2874 - val_accuracy: 0.4749\n",
            "Epoch 14/60\n",
            "130/130 [==============================] - ETA: 0s - loss: 1.2935 - accuracy: 0.4563\n",
            "Epoch 14: val_accuracy did not improve from 0.47491\n",
            "130/130 [==============================] - 60s 460ms/step - loss: 1.2935 - accuracy: 0.4563 - val_loss: 1.2915 - val_accuracy: 0.4684\n",
            "Epoch 15/60\n",
            "130/130 [==============================] - ETA: 0s - loss: 1.2780 - accuracy: 0.4625\n",
            "Epoch 15: val_accuracy improved from 0.47491 to 0.47842, saving model to models/final_cnn_model_checkpoint1.h5\n",
            "130/130 [==============================] - 58s 449ms/step - loss: 1.2780 - accuracy: 0.4625 - val_loss: 1.2613 - val_accuracy: 0.4784\n",
            "Epoch 16/60\n",
            "130/130 [==============================] - ETA: 0s - loss: 1.2854 - accuracy: 0.4576\n",
            "Epoch 16: val_accuracy did not improve from 0.47842\n",
            "130/130 [==============================] - 58s 448ms/step - loss: 1.2854 - accuracy: 0.4576 - val_loss: 1.3001 - val_accuracy: 0.4627\n",
            "Epoch 17/60\n",
            "130/130 [==============================] - ETA: 0s - loss: 1.2579 - accuracy: 0.4668\n",
            "Epoch 17: val_accuracy improved from 0.47842 to 0.47997, saving model to models/final_cnn_model_checkpoint1.h5\n",
            "130/130 [==============================] - 58s 447ms/step - loss: 1.2579 - accuracy: 0.4668 - val_loss: 1.2710 - val_accuracy: 0.4800\n",
            "Epoch 18/60\n",
            "130/130 [==============================] - ETA: 0s - loss: 1.2586 - accuracy: 0.4723\n",
            "Epoch 18: val_accuracy improved from 0.47997 to 0.48784, saving model to models/final_cnn_model_checkpoint1.h5\n",
            "130/130 [==============================] - 60s 459ms/step - loss: 1.2586 - accuracy: 0.4723 - val_loss: 1.2365 - val_accuracy: 0.4878\n",
            "Epoch 19/60\n",
            "130/130 [==============================] - ETA: 0s - loss: 1.2373 - accuracy: 0.4824\n",
            "Epoch 19: val_accuracy improved from 0.48784 to 0.49149, saving model to models/final_cnn_model_checkpoint1.h5\n",
            "130/130 [==============================] - 58s 449ms/step - loss: 1.2373 - accuracy: 0.4824 - val_loss: 1.2240 - val_accuracy: 0.4915\n",
            "Epoch 20/60\n",
            "130/130 [==============================] - ETA: 0s - loss: 1.2286 - accuracy: 0.4813\n",
            "Epoch 20: val_accuracy did not improve from 0.49149\n",
            "130/130 [==============================] - 59s 451ms/step - loss: 1.2286 - accuracy: 0.4813 - val_loss: 1.2202 - val_accuracy: 0.4853\n",
            "Epoch 21/60\n",
            "130/130 [==============================] - ETA: 0s - loss: 1.2288 - accuracy: 0.4860\n",
            "Epoch 21: val_accuracy improved from 0.49149 to 0.49754, saving model to models/final_cnn_model_checkpoint1.h5\n",
            "130/130 [==============================] - 59s 452ms/step - loss: 1.2288 - accuracy: 0.4860 - val_loss: 1.2155 - val_accuracy: 0.4975\n",
            "Epoch 22/60\n",
            "130/130 [==============================] - ETA: 0s - loss: 1.2101 - accuracy: 0.4923\n",
            "Epoch 22: val_accuracy did not improve from 0.49754\n",
            "130/130 [==============================] - 60s 462ms/step - loss: 1.2101 - accuracy: 0.4923 - val_loss: 1.2023 - val_accuracy: 0.4901\n",
            "Epoch 23/60\n",
            "130/130 [==============================] - ETA: 0s - loss: 1.2040 - accuracy: 0.4894\n",
            "Epoch 23: val_accuracy did not improve from 0.49754\n",
            "130/130 [==============================] - 59s 452ms/step - loss: 1.2040 - accuracy: 0.4894 - val_loss: 1.2552 - val_accuracy: 0.4829\n",
            "Epoch 24/60\n",
            "130/130 [==============================] - ETA: 0s - loss: 1.1979 - accuracy: 0.4894\n",
            "Epoch 24: val_accuracy did not improve from 0.49754\n",
            "130/130 [==============================] - 59s 451ms/step - loss: 1.1979 - accuracy: 0.4894 - val_loss: 1.1968 - val_accuracy: 0.4963\n",
            "Epoch 25/60\n",
            "130/130 [==============================] - ETA: 0s - loss: 1.1846 - accuracy: 0.4973\n",
            "Epoch 25: val_accuracy improved from 0.49754 to 0.49923, saving model to models/final_cnn_model_checkpoint1.h5\n",
            "130/130 [==============================] - 59s 455ms/step - loss: 1.1846 - accuracy: 0.4973 - val_loss: 1.1801 - val_accuracy: 0.4992\n",
            "Epoch 26/60\n",
            "130/130 [==============================] - ETA: 0s - loss: 1.1829 - accuracy: 0.4986\n",
            "Epoch 26: val_accuracy improved from 0.49923 to 0.50091, saving model to models/final_cnn_model_checkpoint1.h5\n",
            "130/130 [==============================] - 59s 453ms/step - loss: 1.1829 - accuracy: 0.4986 - val_loss: 1.1816 - val_accuracy: 0.5009\n",
            "Epoch 27/60\n",
            "130/130 [==============================] - ETA: 0s - loss: 1.1710 - accuracy: 0.5063\n",
            "Epoch 27: val_accuracy improved from 0.50091 to 0.50780, saving model to models/final_cnn_model_checkpoint1.h5\n",
            "130/130 [==============================] - 60s 459ms/step - loss: 1.1710 - accuracy: 0.5063 - val_loss: 1.1543 - val_accuracy: 0.5078\n",
            "Epoch 28/60\n",
            "130/130 [==============================] - ETA: 0s - loss: 1.1590 - accuracy: 0.5086\n",
            "Epoch 28: val_accuracy did not improve from 0.50780\n",
            "130/130 [==============================] - 58s 449ms/step - loss: 1.1590 - accuracy: 0.5086 - val_loss: 1.1833 - val_accuracy: 0.5043\n",
            "Epoch 29/60\n",
            "130/130 [==============================] - ETA: 0s - loss: 1.1556 - accuracy: 0.5056\n",
            "Epoch 29: val_accuracy improved from 0.50780 to 0.51483, saving model to models/final_cnn_model_checkpoint1.h5\n",
            "130/130 [==============================] - 59s 452ms/step - loss: 1.1556 - accuracy: 0.5056 - val_loss: 1.1579 - val_accuracy: 0.5148\n",
            "Epoch 30/60\n",
            "130/130 [==============================] - ETA: 0s - loss: 1.1453 - accuracy: 0.5091\n",
            "Epoch 30: val_accuracy did not improve from 0.51483\n",
            "130/130 [==============================] - 58s 447ms/step - loss: 1.1453 - accuracy: 0.5091 - val_loss: 1.1480 - val_accuracy: 0.5148\n",
            "Epoch 31/60\n",
            "130/130 [==============================] - ETA: 0s - loss: 1.1441 - accuracy: 0.5144\n",
            "Epoch 31: val_accuracy improved from 0.51483 to 0.51638, saving model to models/final_cnn_model_checkpoint1.h5\n",
            "130/130 [==============================] - 60s 459ms/step - loss: 1.1441 - accuracy: 0.5144 - val_loss: 1.1357 - val_accuracy: 0.5164\n",
            "Epoch 32/60\n",
            "130/130 [==============================] - ETA: 0s - loss: 1.1505 - accuracy: 0.5086\n",
            "Epoch 32: val_accuracy did not improve from 0.51638\n",
            "130/130 [==============================] - 59s 451ms/step - loss: 1.1505 - accuracy: 0.5086 - val_loss: 1.1439 - val_accuracy: 0.5162\n",
            "Epoch 33/60\n",
            "130/130 [==============================] - ETA: 0s - loss: 1.1342 - accuracy: 0.5155\n",
            "Epoch 33: val_accuracy improved from 0.51638 to 0.52228, saving model to models/final_cnn_model_checkpoint1.h5\n",
            "130/130 [==============================] - 59s 450ms/step - loss: 1.1342 - accuracy: 0.5155 - val_loss: 1.1337 - val_accuracy: 0.5223\n",
            "Epoch 34/60\n",
            "130/130 [==============================] - ETA: 0s - loss: 1.1392 - accuracy: 0.5158\n",
            "Epoch 34: val_accuracy did not improve from 0.52228\n",
            "130/130 [==============================] - 59s 450ms/step - loss: 1.1392 - accuracy: 0.5158 - val_loss: 1.1387 - val_accuracy: 0.5193\n",
            "Epoch 35/60\n",
            "130/130 [==============================] - ETA: 0s - loss: 1.1342 - accuracy: 0.5186\n",
            "Epoch 35: val_accuracy improved from 0.52228 to 0.52622, saving model to models/final_cnn_model_checkpoint1.h5\n",
            "130/130 [==============================] - 60s 459ms/step - loss: 1.1342 - accuracy: 0.5186 - val_loss: 1.1337 - val_accuracy: 0.5262\n",
            "Epoch 36/60\n",
            "130/130 [==============================] - ETA: 0s - loss: 1.1301 - accuracy: 0.5155\n",
            "Epoch 36: val_accuracy did not improve from 0.52622\n",
            "130/130 [==============================] - 58s 449ms/step - loss: 1.1301 - accuracy: 0.5155 - val_loss: 1.1565 - val_accuracy: 0.5039\n",
            "Epoch 37/60\n",
            "130/130 [==============================] - ETA: 0s - loss: 1.1153 - accuracy: 0.5204\n",
            "Epoch 37: val_accuracy did not improve from 0.52622\n",
            "130/130 [==============================] - 58s 448ms/step - loss: 1.1153 - accuracy: 0.5204 - val_loss: 1.1249 - val_accuracy: 0.5226\n",
            "Epoch 38/60\n",
            "130/130 [==============================] - ETA: 0s - loss: 1.1133 - accuracy: 0.5255\n",
            "Epoch 38: val_accuracy improved from 0.52622 to 0.53494, saving model to models/final_cnn_model_checkpoint1.h5\n",
            "130/130 [==============================] - 58s 448ms/step - loss: 1.1133 - accuracy: 0.5255 - val_loss: 1.1115 - val_accuracy: 0.5349\n",
            "Epoch 39/60\n",
            "130/130 [==============================] - ETA: 0s - loss: 1.1096 - accuracy: 0.5277\n",
            "Epoch 39: val_accuracy did not improve from 0.53494\n",
            "130/130 [==============================] - 60s 460ms/step - loss: 1.1096 - accuracy: 0.5277 - val_loss: 1.1336 - val_accuracy: 0.5182\n",
            "Epoch 40/60\n",
            "130/130 [==============================] - ETA: 0s - loss: 1.1050 - accuracy: 0.5315\n",
            "Epoch 40: val_accuracy did not improve from 0.53494\n",
            "130/130 [==============================] - 58s 449ms/step - loss: 1.1050 - accuracy: 0.5315 - val_loss: 1.1359 - val_accuracy: 0.5181\n",
            "Epoch 41/60\n",
            "130/130 [==============================] - ETA: 0s - loss: 1.1037 - accuracy: 0.5319\n",
            "Epoch 41: val_accuracy did not improve from 0.53494\n",
            "130/130 [==============================] - 58s 448ms/step - loss: 1.1037 - accuracy: 0.5319 - val_loss: 1.1240 - val_accuracy: 0.5245\n",
            "Epoch 42/60\n",
            "130/130 [==============================] - ETA: 0s - loss: 1.0949 - accuracy: 0.5318\n",
            "Epoch 42: val_accuracy did not improve from 0.53494\n",
            "130/130 [==============================] - 58s 449ms/step - loss: 1.0949 - accuracy: 0.5318 - val_loss: 1.1023 - val_accuracy: 0.5311\n",
            "Epoch 43/60\n",
            "130/130 [==============================] - ETA: 0s - loss: 1.0898 - accuracy: 0.5308\n",
            "Epoch 43: val_accuracy improved from 0.53494 to 0.53592, saving model to models/final_cnn_model_checkpoint1.h5\n",
            "130/130 [==============================] - 60s 462ms/step - loss: 1.0898 - accuracy: 0.5308 - val_loss: 1.1065 - val_accuracy: 0.5359\n",
            "Epoch 44/60\n",
            "130/130 [==============================] - ETA: 0s - loss: 1.0856 - accuracy: 0.5377\n",
            "Epoch 44: val_accuracy did not improve from 0.53592\n",
            "130/130 [==============================] - 59s 450ms/step - loss: 1.0856 - accuracy: 0.5377 - val_loss: 1.0929 - val_accuracy: 0.5359\n",
            "Epoch 45/60\n",
            "130/130 [==============================] - ETA: 0s - loss: 1.0852 - accuracy: 0.5337\n",
            "Epoch 45: val_accuracy improved from 0.53592 to 0.53704, saving model to models/final_cnn_model_checkpoint1.h5\n",
            "130/130 [==============================] - 59s 450ms/step - loss: 1.0852 - accuracy: 0.5337 - val_loss: 1.0989 - val_accuracy: 0.5370\n",
            "Epoch 46/60\n",
            "130/130 [==============================] - ETA: 0s - loss: 1.0808 - accuracy: 0.5329\n",
            "Epoch 46: val_accuracy improved from 0.53704 to 0.53986, saving model to models/final_cnn_model_checkpoint1.h5\n",
            "130/130 [==============================] - 59s 451ms/step - loss: 1.0808 - accuracy: 0.5329 - val_loss: 1.0888 - val_accuracy: 0.5399\n",
            "Epoch 47/60\n",
            "130/130 [==============================] - ETA: 0s - loss: 1.0744 - accuracy: 0.5414\n",
            "Epoch 47: val_accuracy did not improve from 0.53986\n",
            "130/130 [==============================] - 60s 459ms/step - loss: 1.0744 - accuracy: 0.5414 - val_loss: 1.0975 - val_accuracy: 0.5373\n",
            "Epoch 48/60\n",
            "130/130 [==============================] - ETA: 0s - loss: 1.0847 - accuracy: 0.5382\n",
            "Epoch 48: val_accuracy did not improve from 0.53986\n",
            "130/130 [==============================] - 59s 450ms/step - loss: 1.0847 - accuracy: 0.5382 - val_loss: 1.1053 - val_accuracy: 0.5331\n",
            "Epoch 49/60\n",
            "130/130 [==============================] - ETA: 0s - loss: 1.0743 - accuracy: 0.5376\n",
            "Epoch 49: val_accuracy did not improve from 0.53986\n",
            "130/130 [==============================] - 59s 450ms/step - loss: 1.0743 - accuracy: 0.5376 - val_loss: 1.1469 - val_accuracy: 0.5119\n",
            "Epoch 50/60\n",
            "130/130 [==============================] - ETA: 0s - loss: 1.0833 - accuracy: 0.5404\n",
            "Epoch 50: val_accuracy did not improve from 0.53986\n",
            "130/130 [==============================] - 58s 448ms/step - loss: 1.0833 - accuracy: 0.5404 - val_loss: 1.1156 - val_accuracy: 0.5349\n",
            "Epoch 51/60\n",
            "130/130 [==============================] - ETA: 0s - loss: 1.0711 - accuracy: 0.5429\n",
            "Epoch 51: val_accuracy did not improve from 0.53986\n",
            "130/130 [==============================] - 60s 460ms/step - loss: 1.0711 - accuracy: 0.5429 - val_loss: 1.1261 - val_accuracy: 0.5278\n",
            "Epoch 52/60\n",
            "130/130 [==============================] - ETA: 0s - loss: 1.0706 - accuracy: 0.5387\n",
            "Epoch 52: val_accuracy did not improve from 0.53986\n",
            "130/130 [==============================] - 58s 449ms/step - loss: 1.0706 - accuracy: 0.5387 - val_loss: 1.1098 - val_accuracy: 0.5330\n",
            "Epoch 53/60\n",
            "130/130 [==============================] - ETA: 0s - loss: 1.0710 - accuracy: 0.5409\n",
            "Epoch 53: val_accuracy did not improve from 0.53986\n",
            "130/130 [==============================] - 59s 450ms/step - loss: 1.0710 - accuracy: 0.5409 - val_loss: 1.0937 - val_accuracy: 0.5345\n",
            "Epoch 54/60\n",
            "130/130 [==============================] - ETA: 0s - loss: 1.0642 - accuracy: 0.5470\n",
            "Epoch 54: val_accuracy improved from 0.53986 to 0.54436, saving model to models/final_cnn_model_checkpoint1.h5\n",
            "130/130 [==============================] - 59s 454ms/step - loss: 1.0642 - accuracy: 0.5470 - val_loss: 1.0819 - val_accuracy: 0.5444\n",
            "Epoch 55/60\n",
            "130/130 [==============================] - ETA: 0s - loss: 1.0576 - accuracy: 0.5452\n",
            "Epoch 55: val_accuracy did not improve from 0.54436\n",
            "130/130 [==============================] - 58s 448ms/step - loss: 1.0576 - accuracy: 0.5452 - val_loss: 1.0831 - val_accuracy: 0.5330\n",
            "Epoch 56/60\n",
            "130/130 [==============================] - ETA: 0s - loss: 1.0620 - accuracy: 0.5394\n",
            "Epoch 56: val_accuracy did not improve from 0.54436\n",
            "130/130 [==============================] - 59s 450ms/step - loss: 1.0620 - accuracy: 0.5394 - val_loss: 1.1452 - val_accuracy: 0.5195\n",
            "Epoch 57/60\n",
            "130/130 [==============================] - ETA: 0s - loss: 1.0570 - accuracy: 0.5511\n",
            "Epoch 57: val_accuracy did not improve from 0.54436\n",
            "130/130 [==============================] - 59s 456ms/step - loss: 1.0570 - accuracy: 0.5511 - val_loss: 1.0913 - val_accuracy: 0.5345\n",
            "Epoch 58/60\n",
            "130/130 [==============================] - ETA: 0s - loss: 1.0619 - accuracy: 0.5424\n",
            "Epoch 58: val_accuracy did not improve from 0.54436\n",
            "130/130 [==============================] - 60s 459ms/step - loss: 1.0619 - accuracy: 0.5424 - val_loss: 1.0903 - val_accuracy: 0.5396\n",
            "Epoch 59/60\n",
            "130/130 [==============================] - ETA: 0s - loss: 1.0565 - accuracy: 0.5485\n",
            "Epoch 59: val_accuracy improved from 0.54436 to 0.54478, saving model to models/final_cnn_model_checkpoint1.h5\n",
            "130/130 [==============================] - 58s 448ms/step - loss: 1.0565 - accuracy: 0.5485 - val_loss: 1.0752 - val_accuracy: 0.5448\n",
            "Epoch 60/60\n",
            "130/130 [==============================] - ETA: 0s - loss: 1.0456 - accuracy: 0.5511\n",
            "Epoch 60: val_accuracy improved from 0.54478 to 0.54492, saving model to models/final_cnn_model_checkpoint1.h5\n",
            "130/130 [==============================] - 60s 461ms/step - loss: 1.0456 - accuracy: 0.5511 - val_loss: 1.0730 - val_accuracy: 0.5449\n"
          ]
        }
      ],
      "source": [
        "history = final_cnn.fit(train_data,\n",
        "                    batch_size=512,\n",
        "                    validation_data=test_data,\n",
        "                    epochs=60,\n",
        "                    callbacks=[checkpoint],\n",
        "                    shuffle=False    # shuffle=False to reduce randomness and increase reproducibility\n",
        "                    ) "
      ]
    },
    {
      "cell_type": "code",
      "execution_count": 20,
      "id": "f6f59ec1",
      "metadata": {
        "id": "f6f59ec1"
      },
      "outputs": [],
      "source": [
        "train_loss = history.history['loss']\n",
        "test_loss = history.history['val_loss']\n",
        "train_accuracy = history.history['accuracy']\n",
        "test_accuracy = history.history['val_accuracy']"
      ]
    },
    {
      "cell_type": "code",
      "execution_count": 21,
      "id": "765b0f42",
      "metadata": {
        "colab": {
          "base_uri": "https://localhost:8080/",
          "height": 483
        },
        "id": "765b0f42",
        "outputId": "ff9750ef-0a7b-4b60-cba4-268c3dfb0903"
      },
      "outputs": [
        {
          "output_type": "display_data",
          "data": {
            "text/plain": [
              "<Figure size 864x576 with 2 Axes>"
            ],
            "image/png": "[encoded data removed]"
          },
          "metadata": {
            "needs_background": "light"
          }
        }
      ],
      "source": [
        "plotting_data_dict = history.history\n",
        "\n",
        "plt.figure(figsize=(12,8))\n",
        "\n",
        "test_loss = plotting_data_dict['val_loss']\n",
        "training_loss = plotting_data_dict['loss']\n",
        "test_accuracy = plotting_data_dict['val_accuracy']\n",
        "training_accuracy = plotting_data_dict['accuracy']\n",
        "\n",
        "epochs = range(1,len(test_loss)+1)\n",
        "\n",
        "plt.subplot(121)\n",
        "plt.plot(epochs,test_loss,marker='X',label='test_loss')\n",
        "plt.plot(epochs,training_loss,marker='X',label='training_loss')\n",
        "plt.legend()\n",
        "\n",
        "plt.subplot(122)\n",
        "plt.plot(epochs,test_accuracy,marker='X',label='test_accuracy')\n",
        "plt.plot(epochs,training_accuracy,marker='X',label='training_accuracy')\n",
        "plt.legend()\n",
        "\n",
        "plt.savefig('training.png')"
      ]
    }
  ],
  "metadata": {
    "accelerator": "GPU",
    "colab": {
      "provenance": [],
      "include_colab_link": true
    },
    "kernelspec": {
      "display_name": "Python 3",
      "language": "python",
      "name": "python3"
    },
    "language_info": {
      "codemirror_mode": {
        "name": "ipython",
        "version": 3
      },
      "file_extension": ".py",
      "mimetype": "text/x-python",
      "name": "python",
      "nbconvert_exporter": "python",
      "pygments_lexer": "ipython3",
      "version": "3.8.8"
    }
  },
  "nbformat": 4,
  "nbformat_minor": 5
}